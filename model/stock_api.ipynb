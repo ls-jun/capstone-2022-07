{
 "cells": [
  {
   "cell_type": "code",
   "execution_count": 1,
   "metadata": {},
   "outputs": [],
   "source": [
    "import requests\n",
    "import pandas as pd\n",
    "import math\n",
    "import datetime\n",
    "from tqdm import tqdm\n",
    "import yfinance as yf\n",
    "import exchange_calendars as ecals\n",
    "\n",
    "import firebase_admin\n",
    "from firebase_admin import credentials\n",
    "from firebase_admin import firestore\n",
    "from firebase_admin import db\n",
    "\n",
    "from bs4 import BeautifulSoup"
   ]
  },
  {
   "cell_type": "code",
   "execution_count": 2,
   "metadata": {},
   "outputs": [
    {
     "data": {
      "text/plain": [
       "<firebase_admin.App at 0x111d8eeb0>"
      ]
     },
     "execution_count": 2,
     "metadata": {},
     "output_type": "execute_result"
    }
   ],
   "source": [
    "# Firebase Initialzation - 1번 실행\n",
    "\n",
    "cred = credentials.Certificate('./firebase_key.json')\n",
    "firebase_admin.initialize_app(cred, {\n",
    "  'projectId': 'capstone-2022-07-dac76',\n",
    "})"
   ]
  },
  {
   "cell_type": "code",
   "execution_count": 3,
   "metadata": {},
   "outputs": [
    {
     "name": "stdout",
     "output_type": "stream",
     "text": [
      "2022-04-29\n",
      "20220428\n"
     ]
    }
   ],
   "source": [
    "# 1번 실행\n",
    "# 날짜 반영\n",
    "# 만약 장중이 아니면 어제, 그저께로 쿼링해야 값들 가져올 수 있음\n",
    "# 장중이면 오늘, 어제로 쿼링해야 실시간 반영 가능\n",
    "\n",
    "XKRX = ecals.get_calendar(\"XKRX\") # 한국 코드\n",
    "\n",
    "current = datetime.datetime.now()\n",
    "corr_current = current - datetime.timedelta(hours=9)\n",
    "\n",
    "if(XKRX.is_trading_minute(corr_current.strftime(\"%Y-%m-%d %H:%M\"))):\n",
    "    previous = datetime.date.today().strftime(\"%Y-%m-%d\")\n",
    "    pre_previous = XKRX.previous_session(datetime.date.today().strftime(\"%Y-%m-%d\")).strftime(\"%Y-%m-%d\")\n",
    "else:\n",
    "    previous = XKRX.previous_session(datetime.date.today().strftime(\"%Y-%m-%d\")).strftime(\"%Y-%m-%d\")\n",
    "    pre_previous = XKRX.previous_session(previous).strftime(\"%Y-%m-%d\")"
   ]
  },
  {
   "cell_type": "code",
   "execution_count": 23,
   "metadata": {},
   "outputs": [],
   "source": [
    "# 1번 실행\n",
    "# 주식 이름, 주식 코드, 시가총액 가져오는 함수\n",
    "# 공공데이터포털 - 금융위원회_주식시세정보 api 켜야함\n",
    "\n",
    "# 공공데이터포털 api 주소(Without param)\n",
    "api_service_key_stock = [\n",
    "    \"RXhGWArdgsytKaKf0g%2FWxNuo27wXxg4iChLUs9ePc39VvneddFbQ9v9ZXCDWJkdFbhqCvbw9kdMGy%2F%2Bv3it50A%3D%3D\",\n",
    "    \"bqvyeN8k%2B8%2BfRLf7p4CNQsUIEL%2BRb4b2YR08MD10RDv3BxHugq6bR1wFEAo8hTau3XgiLcA7bEBoclnMdyBfNQ%3D%3D\",\n",
    "    \"zUgkw3obrruAXAW6kZrJnIpK8UUBIrwXrfroSgoDS7NUlSB%2BDz94OTIkkWeP0V%2BzOz81JVtW84bqh1y0HpzcUg%3D%3D\",\n",
    "    \"w9Ra19Zqn3%2BLgg2zHoRiZa8zZPdSCXSgFgrgFGUkaYqqQRD6BVKMsUgiRyJqeEuG1pQ86vSioq03IRarAve7sg%3D%3D\",\n",
    "]  # service api key\n",
    "\n",
    "code_list = []\n",
    "\n",
    "# 종목 이름 가져오는 코드\n",
    "def getStockCode(market, code_list):\n",
    "    \"\"\"\n",
    "    market: 상장구분 (11=유가증권, 12=코스닥, 13=K-OTC, 14=코넥스, 50=기타비상장)\n",
    "    \"\"\"\n",
    "    url = f\"https://api.odcloud.kr/api/GetStockSecuritiesInfoService/v1/getStockPriceInfo?\"\n",
    "    stock_code = 0\n",
    "    while True:\n",
    "        api_decode_key_stock = requests.utils.unquote(\n",
    "            api_service_key_stock[stock_code], encoding=\"utf-8\"\n",
    "        )\n",
    "\n",
    "        params = {\n",
    "            \"serviceKey\": api_decode_key_stock,\n",
    "            \"mrktCls\": market,\n",
    "            \"numOfRows\": 1000,\n",
    "            \"beginBasDt\":pre_previous.replace(\"-\", \"\")\n",
    "        }\n",
    "\n",
    "        response = requests.get(url, params=params)\n",
    "        if(response.status_code != 200):\n",
    "            print(response.status_code)\n",
    "            stock_code += 1\n",
    "            continue\n",
    "        xml = BeautifulSoup(response.text, \"lxml\")\n",
    "        items = xml.find(\"items\")\n",
    "        item_list = []\n",
    "        for item in items:\n",
    "            try:\n",
    "                item_dict = {\n",
    "                    \"stockName\": item.find(\"itmsnm\").text.strip(),\n",
    "                    \"stockCode\": item.find(\"srtncd\").text.strip(),\n",
    "                    \"marketCap\": item.find(\"mrkttotamt\").text.strip(),\n",
    "                }\n",
    "                code_list.append(item.find(\"srtncd\").text.strip() + \".KS\")\n",
    "            except AttributeError:\n",
    "                continue\n",
    "            item_list.append(item_dict)\n",
    "            \n",
    "\n",
    "        return item_list"
   ]
  },
  {
   "cell_type": "code",
   "execution_count": 24,
   "metadata": {},
   "outputs": [],
   "source": [
    "item_list = getStockCode(\"KOSPI\", code_list)"
   ]
  },
  {
   "cell_type": "code",
   "execution_count": 27,
   "metadata": {},
   "outputs": [
    {
     "name": "stdout",
     "output_type": "stream",
     "text": [
      "b'<?xml version=\"1.0\" encoding=\"UTF-8\" standalone=\"yes\"?><response><header><resultCode>99</resultCode><resultMsg>SERVICE KEY IS NOT REGISTERED ERROR.</resultMsg></header></response>'\n"
     ]
    }
   ],
   "source": [
    "# Python3 샘플 코드 #\n",
    "\n",
    "\n",
    "import requests\n",
    "\n",
    "url = 'http://api.seibro.or.kr/openapi/service/StockSvc/getListStatN1'\n",
    "params = {'serviceKey' : 'w9Ra19Zqn3%2BLgg2zHoRiZa8zZPdSCXSgFgrgFGUkaYqqQRD6BVKMsUgiRyJqeEuG1pQ86vSioq03IRarAve7sg%3D%3D',\n",
    "          'pageNo' : '1',\n",
    "          'numOfRows' : '1000',\n",
    "          'stdDt' : pre_previous.replace(\"-\", \"\") \n",
    "        }\n",
    "\n",
    "response = requests.get(url, params=params)\n",
    "print(response.content)"
   ]
  },
  {
   "cell_type": "code",
   "execution_count": 11,
   "metadata": {},
   "outputs": [
    {
     "name": "stdout",
     "output_type": "stream",
     "text": [
      "[*********************100%***********************]  0 of 0 completed\n"
     ]
    },
    {
     "ename": "ValueError",
     "evalue": "No objects to concatenate",
     "output_type": "error",
     "traceback": [
      "\u001b[0;31m---------------------------------------------------------------------------\u001b[0m",
      "\u001b[0;31mValueError\u001b[0m                                Traceback (most recent call last)",
      "File \u001b[0;32m~/Library/Python/3.8/lib/python/site-packages/yfinance/multi.py:141\u001b[0m, in \u001b[0;36mdownload\u001b[0;34m(tickers, start, end, actions, threads, group_by, auto_adjust, back_adjust, progress, period, show_errors, interval, prepost, proxy, rounding, timeout, **kwargs)\u001b[0m\n\u001b[1;32m    <a href='file:///Users/bumseok/Library/Python/3.8/lib/python/site-packages/yfinance/multi.py?line=139'>140</a>\u001b[0m \u001b[39mtry\u001b[39;00m:\n\u001b[0;32m--> <a href='file:///Users/bumseok/Library/Python/3.8/lib/python/site-packages/yfinance/multi.py?line=140'>141</a>\u001b[0m     data \u001b[39m=\u001b[39m _pd\u001b[39m.\u001b[39;49mconcat(shared\u001b[39m.\u001b[39;49m_DFS\u001b[39m.\u001b[39;49mvalues(), axis\u001b[39m=\u001b[39;49m\u001b[39m1\u001b[39;49m,\n\u001b[1;32m    <a href='file:///Users/bumseok/Library/Python/3.8/lib/python/site-packages/yfinance/multi.py?line=141'>142</a>\u001b[0m                       keys\u001b[39m=\u001b[39;49mshared\u001b[39m.\u001b[39;49m_DFS\u001b[39m.\u001b[39;49mkeys())\n\u001b[1;32m    <a href='file:///Users/bumseok/Library/Python/3.8/lib/python/site-packages/yfinance/multi.py?line=142'>143</a>\u001b[0m \u001b[39mexcept\u001b[39;00m \u001b[39mException\u001b[39;00m:\n",
      "File \u001b[0;32m~/Library/Python/3.8/lib/python/site-packages/pandas/util/_decorators.py:311\u001b[0m, in \u001b[0;36mdeprecate_nonkeyword_arguments.<locals>.decorate.<locals>.wrapper\u001b[0;34m(*args, **kwargs)\u001b[0m\n\u001b[1;32m    <a href='file:///Users/bumseok/Library/Python/3.8/lib/python/site-packages/pandas/util/_decorators.py?line=305'>306</a>\u001b[0m     warnings\u001b[39m.\u001b[39mwarn(\n\u001b[1;32m    <a href='file:///Users/bumseok/Library/Python/3.8/lib/python/site-packages/pandas/util/_decorators.py?line=306'>307</a>\u001b[0m         msg\u001b[39m.\u001b[39mformat(arguments\u001b[39m=\u001b[39marguments),\n\u001b[1;32m    <a href='file:///Users/bumseok/Library/Python/3.8/lib/python/site-packages/pandas/util/_decorators.py?line=307'>308</a>\u001b[0m         \u001b[39mFutureWarning\u001b[39;00m,\n\u001b[1;32m    <a href='file:///Users/bumseok/Library/Python/3.8/lib/python/site-packages/pandas/util/_decorators.py?line=308'>309</a>\u001b[0m         stacklevel\u001b[39m=\u001b[39mstacklevel,\n\u001b[1;32m    <a href='file:///Users/bumseok/Library/Python/3.8/lib/python/site-packages/pandas/util/_decorators.py?line=309'>310</a>\u001b[0m     )\n\u001b[0;32m--> <a href='file:///Users/bumseok/Library/Python/3.8/lib/python/site-packages/pandas/util/_decorators.py?line=310'>311</a>\u001b[0m \u001b[39mreturn\u001b[39;00m func(\u001b[39m*\u001b[39;49margs, \u001b[39m*\u001b[39;49m\u001b[39m*\u001b[39;49mkwargs)\n",
      "File \u001b[0;32m~/Library/Python/3.8/lib/python/site-packages/pandas/core/reshape/concat.py:294\u001b[0m, in \u001b[0;36mconcat\u001b[0;34m(objs, axis, join, ignore_index, keys, levels, names, verify_integrity, sort, copy)\u001b[0m\n\u001b[1;32m    <a href='file:///Users/bumseok/Library/Python/3.8/lib/python/site-packages/pandas/core/reshape/concat.py?line=102'>103</a>\u001b[0m \u001b[39m\"\"\"\u001b[39;00m\n\u001b[1;32m    <a href='file:///Users/bumseok/Library/Python/3.8/lib/python/site-packages/pandas/core/reshape/concat.py?line=103'>104</a>\u001b[0m \u001b[39mConcatenate pandas objects along a particular axis with optional set logic\u001b[39;00m\n\u001b[1;32m    <a href='file:///Users/bumseok/Library/Python/3.8/lib/python/site-packages/pandas/core/reshape/concat.py?line=104'>105</a>\u001b[0m \u001b[39malong the other axes.\u001b[39;00m\n\u001b[0;32m   (...)\u001b[0m\n\u001b[1;32m    <a href='file:///Users/bumseok/Library/Python/3.8/lib/python/site-packages/pandas/core/reshape/concat.py?line=291'>292</a>\u001b[0m \u001b[39mValueError: Indexes have overlapping values: ['a']\u001b[39;00m\n\u001b[1;32m    <a href='file:///Users/bumseok/Library/Python/3.8/lib/python/site-packages/pandas/core/reshape/concat.py?line=292'>293</a>\u001b[0m \u001b[39m\"\"\"\u001b[39;00m\n\u001b[0;32m--> <a href='file:///Users/bumseok/Library/Python/3.8/lib/python/site-packages/pandas/core/reshape/concat.py?line=293'>294</a>\u001b[0m op \u001b[39m=\u001b[39m _Concatenator(\n\u001b[1;32m    <a href='file:///Users/bumseok/Library/Python/3.8/lib/python/site-packages/pandas/core/reshape/concat.py?line=294'>295</a>\u001b[0m     objs,\n\u001b[1;32m    <a href='file:///Users/bumseok/Library/Python/3.8/lib/python/site-packages/pandas/core/reshape/concat.py?line=295'>296</a>\u001b[0m     axis\u001b[39m=\u001b[39;49maxis,\n\u001b[1;32m    <a href='file:///Users/bumseok/Library/Python/3.8/lib/python/site-packages/pandas/core/reshape/concat.py?line=296'>297</a>\u001b[0m     ignore_index\u001b[39m=\u001b[39;49mignore_index,\n\u001b[1;32m    <a href='file:///Users/bumseok/Library/Python/3.8/lib/python/site-packages/pandas/core/reshape/concat.py?line=297'>298</a>\u001b[0m     join\u001b[39m=\u001b[39;49mjoin,\n\u001b[1;32m    <a href='file:///Users/bumseok/Library/Python/3.8/lib/python/site-packages/pandas/core/reshape/concat.py?line=298'>299</a>\u001b[0m     keys\u001b[39m=\u001b[39;49mkeys,\n\u001b[1;32m    <a href='file:///Users/bumseok/Library/Python/3.8/lib/python/site-packages/pandas/core/reshape/concat.py?line=299'>300</a>\u001b[0m     levels\u001b[39m=\u001b[39;49mlevels,\n\u001b[1;32m    <a href='file:///Users/bumseok/Library/Python/3.8/lib/python/site-packages/pandas/core/reshape/concat.py?line=300'>301</a>\u001b[0m     names\u001b[39m=\u001b[39;49mnames,\n\u001b[1;32m    <a href='file:///Users/bumseok/Library/Python/3.8/lib/python/site-packages/pandas/core/reshape/concat.py?line=301'>302</a>\u001b[0m     verify_integrity\u001b[39m=\u001b[39;49mverify_integrity,\n\u001b[1;32m    <a href='file:///Users/bumseok/Library/Python/3.8/lib/python/site-packages/pandas/core/reshape/concat.py?line=302'>303</a>\u001b[0m     copy\u001b[39m=\u001b[39;49mcopy,\n\u001b[1;32m    <a href='file:///Users/bumseok/Library/Python/3.8/lib/python/site-packages/pandas/core/reshape/concat.py?line=303'>304</a>\u001b[0m     sort\u001b[39m=\u001b[39;49msort,\n\u001b[1;32m    <a href='file:///Users/bumseok/Library/Python/3.8/lib/python/site-packages/pandas/core/reshape/concat.py?line=304'>305</a>\u001b[0m )\n\u001b[1;32m    <a href='file:///Users/bumseok/Library/Python/3.8/lib/python/site-packages/pandas/core/reshape/concat.py?line=306'>307</a>\u001b[0m \u001b[39mreturn\u001b[39;00m op\u001b[39m.\u001b[39mget_result()\n",
      "File \u001b[0;32m~/Library/Python/3.8/lib/python/site-packages/pandas/core/reshape/concat.py:351\u001b[0m, in \u001b[0;36m_Concatenator.__init__\u001b[0;34m(self, objs, axis, join, keys, levels, names, ignore_index, verify_integrity, copy, sort)\u001b[0m\n\u001b[1;32m    <a href='file:///Users/bumseok/Library/Python/3.8/lib/python/site-packages/pandas/core/reshape/concat.py?line=349'>350</a>\u001b[0m \u001b[39mif\u001b[39;00m \u001b[39mlen\u001b[39m(objs) \u001b[39m==\u001b[39m \u001b[39m0\u001b[39m:\n\u001b[0;32m--> <a href='file:///Users/bumseok/Library/Python/3.8/lib/python/site-packages/pandas/core/reshape/concat.py?line=350'>351</a>\u001b[0m     \u001b[39mraise\u001b[39;00m \u001b[39mValueError\u001b[39;00m(\u001b[39m\"\u001b[39m\u001b[39mNo objects to concatenate\u001b[39m\u001b[39m\"\u001b[39m)\n\u001b[1;32m    <a href='file:///Users/bumseok/Library/Python/3.8/lib/python/site-packages/pandas/core/reshape/concat.py?line=352'>353</a>\u001b[0m \u001b[39mif\u001b[39;00m keys \u001b[39mis\u001b[39;00m \u001b[39mNone\u001b[39;00m:\n",
      "\u001b[0;31mValueError\u001b[0m: No objects to concatenate",
      "\nDuring handling of the above exception, another exception occurred:\n",
      "\u001b[0;31mValueError\u001b[0m                                Traceback (most recent call last)",
      "\u001b[1;32m/Users/bumseok/workspace/capstone-2022-07/model/stock_api.ipynb Cell 7'\u001b[0m in \u001b[0;36m<cell line: 4>\u001b[0;34m()\u001b[0m\n\u001b[1;32m      <a href='vscode-notebook-cell:/Users/bumseok/workspace/capstone-2022-07/model/stock_api.ipynb#ch0000006?line=0'>1</a>\u001b[0m \u001b[39m# 여기서부터는 시간별로 실행 - 실시간 코드\u001b[39;00m\n\u001b[1;32m      <a href='vscode-notebook-cell:/Users/bumseok/workspace/capstone-2022-07/model/stock_api.ipynb#ch0000006?line=1'>2</a>\u001b[0m \n\u001b[1;32m      <a href='vscode-notebook-cell:/Users/bumseok/workspace/capstone-2022-07/model/stock_api.ipynb#ch0000006?line=2'>3</a>\u001b[0m \u001b[39m# start에는 장이 열리는 날 - 하루가 들어가야 함\u001b[39;00m\n\u001b[0;32m----> <a href='vscode-notebook-cell:/Users/bumseok/workspace/capstone-2022-07/model/stock_api.ipynb#ch0000006?line=3'>4</a>\u001b[0m data \u001b[39m=\u001b[39m yf\u001b[39m.\u001b[39;49mdownload(code_list, start\u001b[39m=\u001b[39;49mpre_previous)\n\u001b[1;32m      <a href='vscode-notebook-cell:/Users/bumseok/workspace/capstone-2022-07/model/stock_api.ipynb#ch0000006?line=4'>5</a>\u001b[0m \u001b[39mprint\u001b[39m(data)\n",
      "File \u001b[0;32m~/Library/Python/3.8/lib/python/site-packages/yfinance/multi.py:145\u001b[0m, in \u001b[0;36mdownload\u001b[0;34m(tickers, start, end, actions, threads, group_by, auto_adjust, back_adjust, progress, period, show_errors, interval, prepost, proxy, rounding, timeout, **kwargs)\u001b[0m\n\u001b[1;32m    <a href='file:///Users/bumseok/Library/Python/3.8/lib/python/site-packages/yfinance/multi.py?line=142'>143</a>\u001b[0m \u001b[39mexcept\u001b[39;00m \u001b[39mException\u001b[39;00m:\n\u001b[1;32m    <a href='file:///Users/bumseok/Library/Python/3.8/lib/python/site-packages/yfinance/multi.py?line=143'>144</a>\u001b[0m     _realign_dfs()\n\u001b[0;32m--> <a href='file:///Users/bumseok/Library/Python/3.8/lib/python/site-packages/yfinance/multi.py?line=144'>145</a>\u001b[0m     data \u001b[39m=\u001b[39m _pd\u001b[39m.\u001b[39;49mconcat(shared\u001b[39m.\u001b[39;49m_DFS\u001b[39m.\u001b[39;49mvalues(), axis\u001b[39m=\u001b[39;49m\u001b[39m1\u001b[39;49m,\n\u001b[1;32m    <a href='file:///Users/bumseok/Library/Python/3.8/lib/python/site-packages/yfinance/multi.py?line=145'>146</a>\u001b[0m                       keys\u001b[39m=\u001b[39;49mshared\u001b[39m.\u001b[39;49m_DFS\u001b[39m.\u001b[39;49mkeys())\n\u001b[1;32m    <a href='file:///Users/bumseok/Library/Python/3.8/lib/python/site-packages/yfinance/multi.py?line=147'>148</a>\u001b[0m \u001b[39m# switch names back to isins if applicable\u001b[39;00m\n\u001b[1;32m    <a href='file:///Users/bumseok/Library/Python/3.8/lib/python/site-packages/yfinance/multi.py?line=148'>149</a>\u001b[0m data\u001b[39m.\u001b[39mrename(columns\u001b[39m=\u001b[39mshared\u001b[39m.\u001b[39m_ISINS, inplace\u001b[39m=\u001b[39m\u001b[39mTrue\u001b[39;00m)\n",
      "File \u001b[0;32m~/Library/Python/3.8/lib/python/site-packages/pandas/util/_decorators.py:311\u001b[0m, in \u001b[0;36mdeprecate_nonkeyword_arguments.<locals>.decorate.<locals>.wrapper\u001b[0;34m(*args, **kwargs)\u001b[0m\n\u001b[1;32m    <a href='file:///Users/bumseok/Library/Python/3.8/lib/python/site-packages/pandas/util/_decorators.py?line=304'>305</a>\u001b[0m \u001b[39mif\u001b[39;00m \u001b[39mlen\u001b[39m(args) \u001b[39m>\u001b[39m num_allow_args:\n\u001b[1;32m    <a href='file:///Users/bumseok/Library/Python/3.8/lib/python/site-packages/pandas/util/_decorators.py?line=305'>306</a>\u001b[0m     warnings\u001b[39m.\u001b[39mwarn(\n\u001b[1;32m    <a href='file:///Users/bumseok/Library/Python/3.8/lib/python/site-packages/pandas/util/_decorators.py?line=306'>307</a>\u001b[0m         msg\u001b[39m.\u001b[39mformat(arguments\u001b[39m=\u001b[39marguments),\n\u001b[1;32m    <a href='file:///Users/bumseok/Library/Python/3.8/lib/python/site-packages/pandas/util/_decorators.py?line=307'>308</a>\u001b[0m         \u001b[39mFutureWarning\u001b[39;00m,\n\u001b[1;32m    <a href='file:///Users/bumseok/Library/Python/3.8/lib/python/site-packages/pandas/util/_decorators.py?line=308'>309</a>\u001b[0m         stacklevel\u001b[39m=\u001b[39mstacklevel,\n\u001b[1;32m    <a href='file:///Users/bumseok/Library/Python/3.8/lib/python/site-packages/pandas/util/_decorators.py?line=309'>310</a>\u001b[0m     )\n\u001b[0;32m--> <a href='file:///Users/bumseok/Library/Python/3.8/lib/python/site-packages/pandas/util/_decorators.py?line=310'>311</a>\u001b[0m \u001b[39mreturn\u001b[39;00m func(\u001b[39m*\u001b[39;49margs, \u001b[39m*\u001b[39;49m\u001b[39m*\u001b[39;49mkwargs)\n",
      "File \u001b[0;32m~/Library/Python/3.8/lib/python/site-packages/pandas/core/reshape/concat.py:294\u001b[0m, in \u001b[0;36mconcat\u001b[0;34m(objs, axis, join, ignore_index, keys, levels, names, verify_integrity, sort, copy)\u001b[0m\n\u001b[1;32m     <a href='file:///Users/bumseok/Library/Python/3.8/lib/python/site-packages/pandas/core/reshape/concat.py?line=89'>90</a>\u001b[0m \u001b[39m@deprecate_nonkeyword_arguments\u001b[39m(version\u001b[39m=\u001b[39m\u001b[39mNone\u001b[39;00m, allowed_args\u001b[39m=\u001b[39m[\u001b[39m\"\u001b[39m\u001b[39mobjs\u001b[39m\u001b[39m\"\u001b[39m])\n\u001b[1;32m     <a href='file:///Users/bumseok/Library/Python/3.8/lib/python/site-packages/pandas/core/reshape/concat.py?line=90'>91</a>\u001b[0m \u001b[39mdef\u001b[39;00m \u001b[39mconcat\u001b[39m(\n\u001b[1;32m     <a href='file:///Users/bumseok/Library/Python/3.8/lib/python/site-packages/pandas/core/reshape/concat.py?line=91'>92</a>\u001b[0m     objs: Iterable[NDFrame] \u001b[39m|\u001b[39m Mapping[Hashable, NDFrame],\n\u001b[0;32m   (...)\u001b[0m\n\u001b[1;32m    <a href='file:///Users/bumseok/Library/Python/3.8/lib/python/site-packages/pandas/core/reshape/concat.py?line=100'>101</a>\u001b[0m     copy: \u001b[39mbool\u001b[39m \u001b[39m=\u001b[39m \u001b[39mTrue\u001b[39;00m,\n\u001b[1;32m    <a href='file:///Users/bumseok/Library/Python/3.8/lib/python/site-packages/pandas/core/reshape/concat.py?line=101'>102</a>\u001b[0m ) \u001b[39m-\u001b[39m\u001b[39m>\u001b[39m FrameOrSeriesUnion:\n\u001b[1;32m    <a href='file:///Users/bumseok/Library/Python/3.8/lib/python/site-packages/pandas/core/reshape/concat.py?line=102'>103</a>\u001b[0m     \u001b[39m\"\"\"\u001b[39;00m\n\u001b[1;32m    <a href='file:///Users/bumseok/Library/Python/3.8/lib/python/site-packages/pandas/core/reshape/concat.py?line=103'>104</a>\u001b[0m \u001b[39m    Concatenate pandas objects along a particular axis with optional set logic\u001b[39;00m\n\u001b[1;32m    <a href='file:///Users/bumseok/Library/Python/3.8/lib/python/site-packages/pandas/core/reshape/concat.py?line=104'>105</a>\u001b[0m \u001b[39m    along the other axes.\u001b[39;00m\n\u001b[0;32m   (...)\u001b[0m\n\u001b[1;32m    <a href='file:///Users/bumseok/Library/Python/3.8/lib/python/site-packages/pandas/core/reshape/concat.py?line=291'>292</a>\u001b[0m \u001b[39m    ValueError: Indexes have overlapping values: ['a']\u001b[39;00m\n\u001b[1;32m    <a href='file:///Users/bumseok/Library/Python/3.8/lib/python/site-packages/pandas/core/reshape/concat.py?line=292'>293</a>\u001b[0m \u001b[39m    \"\"\"\u001b[39;00m\n\u001b[0;32m--> <a href='file:///Users/bumseok/Library/Python/3.8/lib/python/site-packages/pandas/core/reshape/concat.py?line=293'>294</a>\u001b[0m     op \u001b[39m=\u001b[39m _Concatenator(\n\u001b[1;32m    <a href='file:///Users/bumseok/Library/Python/3.8/lib/python/site-packages/pandas/core/reshape/concat.py?line=294'>295</a>\u001b[0m         objs,\n\u001b[1;32m    <a href='file:///Users/bumseok/Library/Python/3.8/lib/python/site-packages/pandas/core/reshape/concat.py?line=295'>296</a>\u001b[0m         axis\u001b[39m=\u001b[39;49maxis,\n\u001b[1;32m    <a href='file:///Users/bumseok/Library/Python/3.8/lib/python/site-packages/pandas/core/reshape/concat.py?line=296'>297</a>\u001b[0m         ignore_index\u001b[39m=\u001b[39;49mignore_index,\n\u001b[1;32m    <a href='file:///Users/bumseok/Library/Python/3.8/lib/python/site-packages/pandas/core/reshape/concat.py?line=297'>298</a>\u001b[0m         join\u001b[39m=\u001b[39;49mjoin,\n\u001b[1;32m    <a href='file:///Users/bumseok/Library/Python/3.8/lib/python/site-packages/pandas/core/reshape/concat.py?line=298'>299</a>\u001b[0m         keys\u001b[39m=\u001b[39;49mkeys,\n\u001b[1;32m    <a href='file:///Users/bumseok/Library/Python/3.8/lib/python/site-packages/pandas/core/reshape/concat.py?line=299'>300</a>\u001b[0m         levels\u001b[39m=\u001b[39;49mlevels,\n\u001b[1;32m    <a href='file:///Users/bumseok/Library/Python/3.8/lib/python/site-packages/pandas/core/reshape/concat.py?line=300'>301</a>\u001b[0m         names\u001b[39m=\u001b[39;49mnames,\n\u001b[1;32m    <a href='file:///Users/bumseok/Library/Python/3.8/lib/python/site-packages/pandas/core/reshape/concat.py?line=301'>302</a>\u001b[0m         verify_integrity\u001b[39m=\u001b[39;49mverify_integrity,\n\u001b[1;32m    <a href='file:///Users/bumseok/Library/Python/3.8/lib/python/site-packages/pandas/core/reshape/concat.py?line=302'>303</a>\u001b[0m         copy\u001b[39m=\u001b[39;49mcopy,\n\u001b[1;32m    <a href='file:///Users/bumseok/Library/Python/3.8/lib/python/site-packages/pandas/core/reshape/concat.py?line=303'>304</a>\u001b[0m         sort\u001b[39m=\u001b[39;49msort,\n\u001b[1;32m    <a href='file:///Users/bumseok/Library/Python/3.8/lib/python/site-packages/pandas/core/reshape/concat.py?line=304'>305</a>\u001b[0m     )\n\u001b[1;32m    <a href='file:///Users/bumseok/Library/Python/3.8/lib/python/site-packages/pandas/core/reshape/concat.py?line=306'>307</a>\u001b[0m     \u001b[39mreturn\u001b[39;00m op\u001b[39m.\u001b[39mget_result()\n",
      "File \u001b[0;32m~/Library/Python/3.8/lib/python/site-packages/pandas/core/reshape/concat.py:351\u001b[0m, in \u001b[0;36m_Concatenator.__init__\u001b[0;34m(self, objs, axis, join, keys, levels, names, ignore_index, verify_integrity, copy, sort)\u001b[0m\n\u001b[1;32m    <a href='file:///Users/bumseok/Library/Python/3.8/lib/python/site-packages/pandas/core/reshape/concat.py?line=347'>348</a>\u001b[0m     objs \u001b[39m=\u001b[39m \u001b[39mlist\u001b[39m(objs)\n\u001b[1;32m    <a href='file:///Users/bumseok/Library/Python/3.8/lib/python/site-packages/pandas/core/reshape/concat.py?line=349'>350</a>\u001b[0m \u001b[39mif\u001b[39;00m \u001b[39mlen\u001b[39m(objs) \u001b[39m==\u001b[39m \u001b[39m0\u001b[39m:\n\u001b[0;32m--> <a href='file:///Users/bumseok/Library/Python/3.8/lib/python/site-packages/pandas/core/reshape/concat.py?line=350'>351</a>\u001b[0m     \u001b[39mraise\u001b[39;00m \u001b[39mValueError\u001b[39;00m(\u001b[39m\"\u001b[39m\u001b[39mNo objects to concatenate\u001b[39m\u001b[39m\"\u001b[39m)\n\u001b[1;32m    <a href='file:///Users/bumseok/Library/Python/3.8/lib/python/site-packages/pandas/core/reshape/concat.py?line=352'>353</a>\u001b[0m \u001b[39mif\u001b[39;00m keys \u001b[39mis\u001b[39;00m \u001b[39mNone\u001b[39;00m:\n\u001b[1;32m    <a href='file:///Users/bumseok/Library/Python/3.8/lib/python/site-packages/pandas/core/reshape/concat.py?line=353'>354</a>\u001b[0m     objs \u001b[39m=\u001b[39m \u001b[39mlist\u001b[39m(com\u001b[39m.\u001b[39mnot_none(\u001b[39m*\u001b[39mobjs))\n",
      "\u001b[0;31mValueError\u001b[0m: No objects to concatenate"
     ]
    }
   ],
   "source": [
    "# 여기서부터는 시간별로 실행 - 실시간 코드\n",
    "\n",
    "# start에는 장이 열리는 날 - 하루가 들어가야 함\n",
    "data = yf.download(code_list, start=pre_previous)\n",
    "print(data)"
   ]
  },
  {
   "cell_type": "code",
   "execution_count": null,
   "metadata": {},
   "outputs": [],
   "source": [
    "# item_list에 각 필드들 쿼링\n",
    "\n",
    "for j in tqdm(item_list):\n",
    "    j[\"stockPrice\"] = float(data[\"Close\"][j[\"stockCode\"] + \".KS\"][previous])\n",
    "    j[\"stockLowPrice\"] = float(data[\"Low\"][j[\"stockCode\"] + \".KS\"][previous])\n",
    "    j[\"stockHighPrice\"] = float(data[\"High\"][j[\"stockCode\"] + \".KS\"][previous])\n",
    "    j[\"stockVolume\"] = float(data[\"Volume\"][j[\"stockCode\"] + \".KS\"][previous])\n",
    "    j[\"stockOpenPrice\"] = float(data[\"Open\"][j[\"stockCode\"] + \".KS\"][previous])\n",
    "    j[\"stockClosingPrice\"] = float(data[\"Close\"][j[\"stockCode\"] + \".KS\"][pre_previous])\n",
    "    j['stockChange'] = float(data['Close'][j[\"stockCode\"] + \".KS\"][previous] - data['Close'][j[\"stockCode\"] + \".KS\"][pre_previous])\n",
    "    j['stockPerChange'] = float(round((data['Close'][j[\"stockCode\"] + \".KS\"][previous] - data['Close'][j[\"stockCode\"] + \".KS\"][pre_previous]) / data['Close'][j[\"stockCode\"] + \".KS\"][pre_previous] * 100, 2))"
   ]
  },
  {
   "cell_type": "code",
   "execution_count": null,
   "metadata": {},
   "outputs": [],
   "source": [
    "# 상장폐지 / 거래중지 종목 리스트에서 제거\n",
    "\n",
    "for i in item_list:\n",
    "    if math.isnan(i['stockPrice']):\n",
    "        item_list.remove(i)"
   ]
  },
  {
   "cell_type": "code",
   "execution_count": null,
   "metadata": {},
   "outputs": [],
   "source": [
    "# Firebase에 multithreading 이용해서 쿼링\n",
    "# 3분 30초 -> 20초\n",
    "\n",
    "db = firestore.client()\n",
    "\n",
    "from multiprocessing.dummy import Pool as ThreadPool\n",
    "def AddFirebase(item):\n",
    "    db.collection(u\"stock_API\").document(item[\"stockName\"]).set(item)\n",
    "\n",
    "pool = ThreadPool(10)\n",
    "\n",
    "for _ in tqdm(pool.imap_unordered(AddFirebase, item_list), total=len(item_list)):\n",
    "    pass\n",
    "\n",
    "pool.close() \n",
    "pool.join()"
   ]
  }
 ],
 "metadata": {
  "interpreter": {
   "hash": "31f2aee4e71d21fbe5cf8b01ff0e069b9275f58929596ceb00d14d90e3e16cd6"
  },
  "kernelspec": {
   "display_name": "Python 3.8.9 64-bit",
   "language": "python",
   "name": "python3"
  },
  "language_info": {
   "codemirror_mode": {
    "name": "ipython",
    "version": 3
   },
   "file_extension": ".py",
   "mimetype": "text/x-python",
   "name": "python",
   "nbconvert_exporter": "python",
   "pygments_lexer": "ipython3",
   "version": "3.8.9"
  },
  "orig_nbformat": 4
 },
 "nbformat": 4,
 "nbformat_minor": 2
}
